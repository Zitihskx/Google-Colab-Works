{
  "cells": [
    {
      "cell_type": "markdown",
      "metadata": {
        "id": "view-in-github",
        "colab_type": "text"
      },
      "source": [
        "<a href=\"https://colab.research.google.com/github/Zitihskx/Google-Colab-Works/blob/main/Anomaly%20Detection.ipynb\" target=\"_parent\"><img src=\"https://colab.research.google.com/assets/colab-badge.svg\" alt=\"Open In Colab\"/></a>"
      ]
    },
    {
      "cell_type": "code",
      "execution_count": null,
      "metadata": {
        "colab": {
          "base_uri": "https://localhost:8080/"
        },
        "id": "FjD89qkwdtvJ",
        "outputId": "38bd4e36-c7ca-402f-a532-16a6a6acf6e3"
      },
      "outputs": [
        {
          "output_type": "execute_result",
          "data": {
            "text/plain": [
              "array([-1])"
            ]
          },
          "metadata": {},
          "execution_count": 101
        }
      ],
      "source": [
        "from sklearn.ensemble import IsolationForest\n",
        "import numpy as np\n",
        "\n",
        "X=np.array([[25,24],[25,25],[25,25],[21,24],[24,24],[30,29],[25,25],[25,25],[27,29],[25,29],[24,29],[24,25],[27,25],[24,27],[24,25],[25,24],\n",
        "            [24,25],[25,30],[29,29],[27,30],[27,24],[29,25],[27,25],[25,25],[23,29]])\n",
        "clf= IsolationForest(n_estimators=100, warm_start=True,contamination=0.01)\n",
        "clf.fit(X)\n",
        "anomaly_score=clf.decision_function(X)\n",
        "anomaly_score\n",
        "clf.predict(([[30,22]]))\n",
        "\n"
      ]
    },
    {
      "cell_type": "code",
      "execution_count": null,
      "metadata": {
        "id": "KQO0p1PCki0e",
        "colab": {
          "base_uri": "https://localhost:8080/",
          "height": 283
        },
        "outputId": "e3269315-ead6-4718-b191-765596d52692"
      },
      "outputs": [
        {
          "output_type": "display_data",
          "data": {
            "image/png": "[encoded data removed]",
            "text/plain": [
              "<Figure size 648x288 with 2 Axes>"
            ]
          },
          "metadata": {
            "needs_background": "light"
          }
        }
      ],
      "source": [
        "from sklearn.covariance import EllipticEnvelope\n",
        "X=np.array([[25,24],[25,25],[25,25],[21,24],[24,24],[30,29],[25,25],[25,25],[27,29],[25,29],[24,29],[24,25],[27,25],[24,27],[24,25],[25,24],\n",
        "            [24,25],[25,30],[29,29],[27,30],[27,24],[29,25],[27,25],[25,25],[23,29],[30,22]])\n",
        "clf=EllipticEnvelope(store_precision=True, assume_centered=False, support_fraction=None, \n",
        "                                    contamination=0.001, random_state=0).fit(X)\n",
        "#clf.predict([[30,22]])\n",
        "d = clf.predict(X)\n",
        "plt.figure(figsize = (9, 4))\n",
        "ax = plt.scatter(X.transpose()[0],X.transpose()[1], c = d, cmap = 'coolwarm')\n",
        "plt.xlabel('Width')\n",
        "plt.ylabel('height')\n",
        "plt.colorbar(label = '-1: Anomaly; +1: Not Anomaly')\n",
        "plt.grid()"
      ]
    },
    {
      "cell_type": "code",
      "source": [
        "from sklearn.svm import OneClassSVM\n",
        "X=np.array([[25,24],[25,25],[25,25],[21,24],[24,24],[30,29],[25,25],[25,25],[27,29],[25,29],[24,29],[24,25],[27,25],[24,27],[24,25],[25,24],\n",
        "            [24,25],[25,30],[29,29],[27,30],[27,24],[29,25],[27,25],[25,25],[23,29],[30,22]])\n",
        "\n",
        "clf=OneClassSVM(gamma='scale', nu=0.001).fit(X)\n",
        "clf.predict(X)\n",
        "#clf.score_samples(X)\n",
        "#clf.predict(([[30,22]]))"
      ],
      "metadata": {
        "colab": {
          "base_uri": "https://localhost:8080/"
        },
        "id": "B4WHjWDi-O9a",
        "outputId": "33ec9e41-462b-4cbe-b923-b0a7beaa6386"
      },
      "execution_count": null,
      "outputs": [
        {
          "output_type": "execute_result",
          "data": {
            "text/plain": [
              "array([ 1,  1,  1,  1,  1,  1,  1,  1,  1,  1,  1,  1,  1,  1,  1,  1,  1,\n",
              "       -1,  1, -1,  1, -1,  1,  1,  1, -1])"
            ]
          },
          "metadata": {},
          "execution_count": 79
        }
      ]
    },
    {
      "cell_type": "code",
      "source": [
        "from sklearn.linear_model import SGDOneClassSVM\n",
        "from sklearn.kernel_approximation import Nystroem\n",
        "from sklearn.pipeline import make_pipeline\n",
        "\n",
        "X=np.array([[25,24],[25,25],[25,25],[21,24],[24,24],[30,29],[25,25],[25,25],[27,29],[25,29],[24,29],[24,25],[27,25],[24,27],[24,25],[25,24],\n",
        "            [24,25],[25,30],[29,29],[27,30],[27,24],[29,25],[27,25],[25,25],[23,29]])\n",
        "\n",
        "transform = Nystroem(gamma=2.0, random_state=42)\n",
        "clf_sgd = SGDOneClassSVM(\n",
        "    nu=0.1, shuffle=True, fit_intercept=True, random_state=42, tol=1e-4\n",
        ")\n",
        "pipe_sgd = make_pipeline(transform, clf_sgd)\n",
        "pipe_sgd.fit(X)\n",
        "pipe_sgd.predict(X)\n",
        "\n",
        "pipe_sgd.predict(([[30,22]]))\n"
      ],
      "metadata": {
        "colab": {
          "base_uri": "https://localhost:8080/"
        },
        "id": "fxALYhiXDv9J",
        "outputId": "e15f057f-c5fc-41c2-8a70-101e63a588e7"
      },
      "execution_count": null,
      "outputs": [
        {
          "output_type": "stream",
          "name": "stderr",
          "text": [
            "/usr/local/lib/python3.7/dist-packages/sklearn/kernel_approximation.py:886: UserWarning: n_components > n_samples. This is not possible.\n",
            "n_components was set to n_samples, which results in inefficient evaluation of the full kernel.\n",
            "  \"n_components > n_samples. This is not possible.\\n\"\n"
          ]
        },
        {
          "output_type": "execute_result",
          "data": {
            "text/plain": [
              "array([1], dtype=int32)"
            ]
          },
          "metadata": {},
          "execution_count": 97
        }
      ]
    },
    {
      "cell_type": "code",
      "source": [
        "X=np.array([[25,24],[25,25],[25,25],[21,24],[24,24],[30,29],[25,25],[25,25],[27,29],[25,29],[24,29],[24,25],[27,25],[24,27],[24,25],[25,24],\n",
        "            [24,25],[25,30],[29,29],[27,30],[27,24],[29,25],[27,25],[25,25],[23,29]])\n",
        "\n",
        "plt.scatter(X.transpose()[0],X.transpose()[1])\n",
        "plt.xlabel('width')\n",
        "plt.ylabel('height')\n",
        "plt.title(\"Width-Height Dostribution\")\n",
        "sns.despine()"
      ],
      "metadata": {
        "colab": {
          "base_uri": "https://localhost:8080/",
          "height": 295
        },
        "id": "FPbzb5ZaO9Kp",
        "outputId": "d2a389f1-2302-4312-9cb1-0d67c77eae9f"
      },
      "execution_count": null,
      "outputs": [
        {
          "output_type": "display_data",
          "data": {
            "image/png": "[encoded data removed]",
            "text/plain": [
              "<Figure size 432x288 with 1 Axes>"
            ]
          },
          "metadata": {
            "needs_background": "light"
          }
        }
      ]
    },
    {
      "cell_type": "code",
      "source": [
        "import numpy as np\n",
        "\n",
        "from sklearn.cluster import DBSCAN\n",
        "from sklearn import metrics\n",
        "from sklearn.datasets import make_blobs\n",
        "from sklearn.preprocessing import StandardScaler\n",
        "\n"
      ],
      "metadata": {
        "id": "zJGVCeTnj5CE"
      },
      "execution_count": null,
      "outputs": []
    },
    {
      "cell_type": "code",
      "source": [
        "X=np.array([[25,24],[25,25],[25,25],[21,24],[24,24],[30,29],[25,25],[25,25],[27,29],[25,29],[24,29],[24,25],[27,25],[24,27],[24,25],[25,24],\n",
        "            [24,25],[25,30],[29,29],[27,30],[27,24],[29,25],[27,25],[25,25],[23,29]])\n"
      ],
      "metadata": {
        "id": "Cvii0QZQmom8"
      },
      "execution_count": null,
      "outputs": []
    },
    {
      "cell_type": "code",
      "source": [
        ""
      ],
      "metadata": {
        "id": "GsOT9qPkpCb6"
      },
      "execution_count": null,
      "outputs": []
    },
    {
      "cell_type": "code",
      "source": [
        ""
      ],
      "metadata": {
        "id": "ETrQytp5pTcY"
      },
      "execution_count": null,
      "outputs": []
    }
  ],
  "metadata": {
    "colab": {
      "name": "Anomaly",
      "provenance": [],
      "collapsed_sections": [],
      "authorship_tag": "ABX9TyNQFRgTkk7LFLIezQXt9S3l",
      "include_colab_link": true
    },
    "kernelspec": {
      "display_name": "Python 3",
      "name": "python3"
    },
    "language_info": {
      "name": "python"
    }
  },
  "nbformat": 4,
  "nbformat_minor": 0
}